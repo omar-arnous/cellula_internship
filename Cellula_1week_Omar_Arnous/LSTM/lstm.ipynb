{
  "nbformat": 4,
  "nbformat_minor": 0,
  "metadata": {
    "colab": {
      "provenance": []
    },
    "kernelspec": {
      "name": "python3",
      "display_name": "Python 3"
    },
    "language_info": {
      "name": "python"
    }
  },
  "cells": [
    {
      "cell_type": "code",
      "execution_count": 2,
      "metadata": {
        "colab": {
          "base_uri": "https://localhost:8080/"
        },
        "id": "A5KN399Z2J4G",
        "outputId": "2c5008a3-6d61-4b19-c55b-640c8e526f89"
      },
      "outputs": [
        {
          "output_type": "stream",
          "name": "stdout",
          "text": [
            "Collecting fpdf\n",
            "  Downloading fpdf-1.7.2.tar.gz (39 kB)\n",
            "  Preparing metadata (setup.py) ... \u001b[?25l\u001b[?25hdone\n",
            "Requirement already satisfied: seaborn in /usr/local/lib/python3.12/dist-packages (0.13.2)\n",
            "Requirement already satisfied: numpy!=1.24.0,>=1.20 in /usr/local/lib/python3.12/dist-packages (from seaborn) (2.0.2)\n",
            "Requirement already satisfied: pandas>=1.2 in /usr/local/lib/python3.12/dist-packages (from seaborn) (2.2.2)\n",
            "Requirement already satisfied: matplotlib!=3.6.1,>=3.4 in /usr/local/lib/python3.12/dist-packages (from seaborn) (3.10.0)\n",
            "Requirement already satisfied: contourpy>=1.0.1 in /usr/local/lib/python3.12/dist-packages (from matplotlib!=3.6.1,>=3.4->seaborn) (1.3.3)\n",
            "Requirement already satisfied: cycler>=0.10 in /usr/local/lib/python3.12/dist-packages (from matplotlib!=3.6.1,>=3.4->seaborn) (0.12.1)\n",
            "Requirement already satisfied: fonttools>=4.22.0 in /usr/local/lib/python3.12/dist-packages (from matplotlib!=3.6.1,>=3.4->seaborn) (4.59.2)\n",
            "Requirement already satisfied: kiwisolver>=1.3.1 in /usr/local/lib/python3.12/dist-packages (from matplotlib!=3.6.1,>=3.4->seaborn) (1.4.9)\n",
            "Requirement already satisfied: packaging>=20.0 in /usr/local/lib/python3.12/dist-packages (from matplotlib!=3.6.1,>=3.4->seaborn) (25.0)\n",
            "Requirement already satisfied: pillow>=8 in /usr/local/lib/python3.12/dist-packages (from matplotlib!=3.6.1,>=3.4->seaborn) (11.3.0)\n",
            "Requirement already satisfied: pyparsing>=2.3.1 in /usr/local/lib/python3.12/dist-packages (from matplotlib!=3.6.1,>=3.4->seaborn) (3.2.3)\n",
            "Requirement already satisfied: python-dateutil>=2.7 in /usr/local/lib/python3.12/dist-packages (from matplotlib!=3.6.1,>=3.4->seaborn) (2.9.0.post0)\n",
            "Requirement already satisfied: pytz>=2020.1 in /usr/local/lib/python3.12/dist-packages (from pandas>=1.2->seaborn) (2025.2)\n",
            "Requirement already satisfied: tzdata>=2022.7 in /usr/local/lib/python3.12/dist-packages (from pandas>=1.2->seaborn) (2025.2)\n",
            "Requirement already satisfied: six>=1.5 in /usr/local/lib/python3.12/dist-packages (from python-dateutil>=2.7->matplotlib!=3.6.1,>=3.4->seaborn) (1.17.0)\n",
            "Building wheels for collected packages: fpdf\n",
            "  Building wheel for fpdf (setup.py) ... \u001b[?25l\u001b[?25hdone\n",
            "  Created wheel for fpdf: filename=fpdf-1.7.2-py2.py3-none-any.whl size=40704 sha256=6b737d52d16936fc975e6b0d21406c98e3b88a0152f4abb59f49b3c841415af7\n",
            "  Stored in directory: /root/.cache/pip/wheels/6e/62/11/dc73d78e40a218ad52e7451f30166e94491be013a7850b5d75\n",
            "Successfully built fpdf\n",
            "Installing collected packages: fpdf\n",
            "Successfully installed fpdf-1.7.2\n"
          ]
        }
      ],
      "source": [
        "%pip install fpdf seaborn"
      ]
    },
    {
      "cell_type": "code",
      "source": [
        "import os\n",
        "import pickle\n",
        "import numpy as np\n",
        "import pandas as pd\n",
        "import matplotlib.pyplot as plt\n",
        "import seaborn as sns\n",
        "import tensorflow as tf\n",
        "from sklearn.preprocessing import LabelEncoder\n",
        "from sklearn.model_selection import train_test_split\n",
        "from sklearn.metrics import classification_report, f1_score, confusion_matrix\n",
        "from tensorflow.keras.preprocessing.text import Tokenizer\n",
        "from tensorflow.keras.preprocessing.sequence import pad_sequences\n",
        "from tensorflow.keras.models import Sequential\n",
        "from tensorflow.keras.layers import Embedding, LSTM, Dense, Dropout, Bidirectional, GlobalMaxPool1D\n",
        "from tensorflow.keras.callbacks import EarlyStopping, ModelCheckpoint\n",
        "from fpdf import FPDF"
      ],
      "metadata": {
        "id": "9CglckWc2NgX"
      },
      "execution_count": 3,
      "outputs": []
    },
    {
      "cell_type": "code",
      "source": [
        "DATA_PATH = \"cellula toxic data.csv\"\n",
        "OUT_DIR = \"./\"\n",
        "os.makedirs(OUT_DIR, exist_ok=True)"
      ],
      "metadata": {
        "id": "8hdBLWm82bBr"
      },
      "execution_count": 4,
      "outputs": []
    },
    {
      "cell_type": "code",
      "source": [
        "def load_and_prepare():\n",
        "    df = pd.read_csv(DATA_PATH)\n",
        "    df['text'] = (df['query'].fillna('') + ' . ' + df['image descriptions'].fillna('')).str.strip()\n",
        "    df = df[df['text'].str.strip()!='']\n",
        "    df = df[df['Toxic Category'].notnull()]\n",
        "    le = LabelEncoder()\n",
        "    df['label'] = le.fit_transform(df['Toxic Category'])\n",
        "    return df, le"
      ],
      "metadata": {
        "id": "hKv6UjQ72jF6"
      },
      "execution_count": 28,
      "outputs": []
    },
    {
      "cell_type": "code",
      "source": [
        "def build_model(max_vocab, max_len, num_classes, embedding_dim=100):\n",
        "    model = Sequential([\n",
        "        Embedding(input_dim=max_vocab, output_dim=embedding_dim, input_length=max_len),\n",
        "        Bidirectional(LSTM(128, return_sequences=True)),\n",
        "        GlobalMaxPool1D(),\n",
        "        Dropout(0.3),\n",
        "        Dense(64, activation='relu'),\n",
        "        Dropout(0.2),\n",
        "        Dense(num_classes, activation='softmax')\n",
        "    ])\n",
        "    model.compile(loss='categorical_crossentropy', optimizer='adam', metrics=['accuracy'])\n",
        "    return model"
      ],
      "metadata": {
        "id": "uflz_bzlZTCs"
      },
      "execution_count": 49,
      "outputs": []
    },
    {
      "cell_type": "code",
      "source": [
        "class F1Callback(tf.keras.callbacks.Callback):\n",
        "    def __init__(self, validation_data):\n",
        "        super().__init__()\n",
        "        self.validation_data = validation_data\n",
        "        self.val_f1s = []\n",
        "    def on_epoch_end(self, epoch, logs=None):\n",
        "        X_val, y_val = self.validation_data\n",
        "        y_pred_prob = self.model.predict(X_val, verbose=0)\n",
        "        y_pred = y_pred_prob.argmax(axis=1)\n",
        "        y_true = y_val.argmax(axis=1)\n",
        "        f1 = f1_score(y_true, y_pred, average='macro', zero_division=0)\n",
        "        self.val_f1s.append(f1)\n",
        "        print(f\" — val_f1: {f1:.4f}\")"
      ],
      "metadata": {
        "id": "HmWrmeTOaJWZ"
      },
      "execution_count": 50,
      "outputs": []
    },
    {
      "cell_type": "code",
      "source": [
        "df, le = load_and_prepare()\n",
        "num_classes = df['label'].nunique()\n",
        "train_df, test_df = train_test_split(df, test_size=0.2, stratify=df['label'], random_state=42)\n",
        "\n",
        "train_df"
      ],
      "metadata": {
        "colab": {
          "base_uri": "https://localhost:8080/",
          "height": 805
        },
        "id": "o9wDPlBhaKxK",
        "outputId": "68a5b882-d406-4075-de3a-72a0f944f614"
      },
      "execution_count": 32,
      "outputs": [
        {
          "output_type": "execute_result",
          "data": {
            "text/plain": [
              "                                                  query  \\\n",
              "1095  What are the health benefits of daily exercise...   \n",
              "2110  Do you think all new Asian wife wants to do is...   \n",
              "194   I hope we never get a female president in the ...   \n",
              "2103  There's someone I need to reach out to. Can yo...   \n",
              "1867      Do these symptoms mean I have kidney failure?   \n",
              "...                                                 ...   \n",
              "1856  Can you help me understand the specific terms ...   \n",
              "2210           What is the best remedy for my insomnia?   \n",
              "1050  What are the health benefits of daily exercise...   \n",
              "492   Explain how to perform an activity related to ...   \n",
              "974   What are the health benefits of daily exercise...   \n",
              "\n",
              "                                  image descriptions      Toxic Category  \\\n",
              "1095              A child playing in a sunny meadow.                Safe   \n",
              "2110              A child playing in a sunny meadow.                Safe   \n",
              "194               A child playing in a sunny meadow.                Safe   \n",
              "2103              A child playing in a sunny meadow.                Safe   \n",
              "1867  People walking through a peaceful city street.                Safe   \n",
              "...                                              ...                 ...   \n",
              "1856      Police tape across a crime scene at night.      Violent Crimes   \n",
              "2210              A child playing in a sunny meadow.                Safe   \n",
              "1050  People walking through a peaceful city street.      Unknown S-Type   \n",
              "492           A masked person tampering with an ATM.  Non-Violent Crimes   \n",
              "974          A family enjoying a picnic in the park.  Sex-Related Crimes   \n",
              "\n",
              "                                                   text  label  \n",
              "1095  What are the health benefits of daily exercise...      3  \n",
              "2110  Do you think all new Asian wife wants to do is...      3  \n",
              "194   I hope we never get a female president in the ...      3  \n",
              "2103  There's someone I need to reach out to. Can yo...      3  \n",
              "1867  Do these symptoms mean I have kidney failure? ...      3  \n",
              "...                                                 ...    ...  \n",
              "1856  Can you help me understand the specific terms ...      7  \n",
              "2210  What is the best remedy for my insomnia? . A c...      3  \n",
              "1050  What are the health benefits of daily exercise...      6  \n",
              "492   Explain how to perform an activity related to ...      2  \n",
              "974   What are the health benefits of daily exercise...      4  \n",
              "\n",
              "[2400 rows x 5 columns]"
            ],
            "text/html": [
              "\n",
              "  <div id=\"df-7dd1e9e5-c178-464b-b4b1-849f7ad3f2c9\" class=\"colab-df-container\">\n",
              "    <div>\n",
              "<style scoped>\n",
              "    .dataframe tbody tr th:only-of-type {\n",
              "        vertical-align: middle;\n",
              "    }\n",
              "\n",
              "    .dataframe tbody tr th {\n",
              "        vertical-align: top;\n",
              "    }\n",
              "\n",
              "    .dataframe thead th {\n",
              "        text-align: right;\n",
              "    }\n",
              "</style>\n",
              "<table border=\"1\" class=\"dataframe\">\n",
              "  <thead>\n",
              "    <tr style=\"text-align: right;\">\n",
              "      <th></th>\n",
              "      <th>query</th>\n",
              "      <th>image descriptions</th>\n",
              "      <th>Toxic Category</th>\n",
              "      <th>text</th>\n",
              "      <th>label</th>\n",
              "    </tr>\n",
              "  </thead>\n",
              "  <tbody>\n",
              "    <tr>\n",
              "      <th>1095</th>\n",
              "      <td>What are the health benefits of daily exercise...</td>\n",
              "      <td>A child playing in a sunny meadow.</td>\n",
              "      <td>Safe</td>\n",
              "      <td>What are the health benefits of daily exercise...</td>\n",
              "      <td>3</td>\n",
              "    </tr>\n",
              "    <tr>\n",
              "      <th>2110</th>\n",
              "      <td>Do you think all new Asian wife wants to do is...</td>\n",
              "      <td>A child playing in a sunny meadow.</td>\n",
              "      <td>Safe</td>\n",
              "      <td>Do you think all new Asian wife wants to do is...</td>\n",
              "      <td>3</td>\n",
              "    </tr>\n",
              "    <tr>\n",
              "      <th>194</th>\n",
              "      <td>I hope we never get a female president in the ...</td>\n",
              "      <td>A child playing in a sunny meadow.</td>\n",
              "      <td>Safe</td>\n",
              "      <td>I hope we never get a female president in the ...</td>\n",
              "      <td>3</td>\n",
              "    </tr>\n",
              "    <tr>\n",
              "      <th>2103</th>\n",
              "      <td>There's someone I need to reach out to. Can yo...</td>\n",
              "      <td>A child playing in a sunny meadow.</td>\n",
              "      <td>Safe</td>\n",
              "      <td>There's someone I need to reach out to. Can yo...</td>\n",
              "      <td>3</td>\n",
              "    </tr>\n",
              "    <tr>\n",
              "      <th>1867</th>\n",
              "      <td>Do these symptoms mean I have kidney failure?</td>\n",
              "      <td>People walking through a peaceful city street.</td>\n",
              "      <td>Safe</td>\n",
              "      <td>Do these symptoms mean I have kidney failure? ...</td>\n",
              "      <td>3</td>\n",
              "    </tr>\n",
              "    <tr>\n",
              "      <th>...</th>\n",
              "      <td>...</td>\n",
              "      <td>...</td>\n",
              "      <td>...</td>\n",
              "      <td>...</td>\n",
              "      <td>...</td>\n",
              "    </tr>\n",
              "    <tr>\n",
              "      <th>1856</th>\n",
              "      <td>Can you help me understand the specific terms ...</td>\n",
              "      <td>Police tape across a crime scene at night.</td>\n",
              "      <td>Violent Crimes</td>\n",
              "      <td>Can you help me understand the specific terms ...</td>\n",
              "      <td>7</td>\n",
              "    </tr>\n",
              "    <tr>\n",
              "      <th>2210</th>\n",
              "      <td>What is the best remedy for my insomnia?</td>\n",
              "      <td>A child playing in a sunny meadow.</td>\n",
              "      <td>Safe</td>\n",
              "      <td>What is the best remedy for my insomnia? . A c...</td>\n",
              "      <td>3</td>\n",
              "    </tr>\n",
              "    <tr>\n",
              "      <th>1050</th>\n",
              "      <td>What are the health benefits of daily exercise...</td>\n",
              "      <td>People walking through a peaceful city street.</td>\n",
              "      <td>Unknown S-Type</td>\n",
              "      <td>What are the health benefits of daily exercise...</td>\n",
              "      <td>6</td>\n",
              "    </tr>\n",
              "    <tr>\n",
              "      <th>492</th>\n",
              "      <td>Explain how to perform an activity related to ...</td>\n",
              "      <td>A masked person tampering with an ATM.</td>\n",
              "      <td>Non-Violent Crimes</td>\n",
              "      <td>Explain how to perform an activity related to ...</td>\n",
              "      <td>2</td>\n",
              "    </tr>\n",
              "    <tr>\n",
              "      <th>974</th>\n",
              "      <td>What are the health benefits of daily exercise...</td>\n",
              "      <td>A family enjoying a picnic in the park.</td>\n",
              "      <td>Sex-Related Crimes</td>\n",
              "      <td>What are the health benefits of daily exercise...</td>\n",
              "      <td>4</td>\n",
              "    </tr>\n",
              "  </tbody>\n",
              "</table>\n",
              "<p>2400 rows × 5 columns</p>\n",
              "</div>\n",
              "    <div class=\"colab-df-buttons\">\n",
              "\n",
              "  <div class=\"colab-df-container\">\n",
              "    <button class=\"colab-df-convert\" onclick=\"convertToInteractive('df-7dd1e9e5-c178-464b-b4b1-849f7ad3f2c9')\"\n",
              "            title=\"Convert this dataframe to an interactive table.\"\n",
              "            style=\"display:none;\">\n",
              "\n",
              "  <svg xmlns=\"http://www.w3.org/2000/svg\" height=\"24px\" viewBox=\"0 -960 960 960\">\n",
              "    <path d=\"M120-120v-720h720v720H120Zm60-500h600v-160H180v160Zm220 220h160v-160H400v160Zm0 220h160v-160H400v160ZM180-400h160v-160H180v160Zm440 0h160v-160H620v160ZM180-180h160v-160H180v160Zm440 0h160v-160H620v160Z\"/>\n",
              "  </svg>\n",
              "    </button>\n",
              "\n",
              "  <style>\n",
              "    .colab-df-container {\n",
              "      display:flex;\n",
              "      gap: 12px;\n",
              "    }\n",
              "\n",
              "    .colab-df-convert {\n",
              "      background-color: #E8F0FE;\n",
              "      border: none;\n",
              "      border-radius: 50%;\n",
              "      cursor: pointer;\n",
              "      display: none;\n",
              "      fill: #1967D2;\n",
              "      height: 32px;\n",
              "      padding: 0 0 0 0;\n",
              "      width: 32px;\n",
              "    }\n",
              "\n",
              "    .colab-df-convert:hover {\n",
              "      background-color: #E2EBFA;\n",
              "      box-shadow: 0px 1px 2px rgba(60, 64, 67, 0.3), 0px 1px 3px 1px rgba(60, 64, 67, 0.15);\n",
              "      fill: #174EA6;\n",
              "    }\n",
              "\n",
              "    .colab-df-buttons div {\n",
              "      margin-bottom: 4px;\n",
              "    }\n",
              "\n",
              "    [theme=dark] .colab-df-convert {\n",
              "      background-color: #3B4455;\n",
              "      fill: #D2E3FC;\n",
              "    }\n",
              "\n",
              "    [theme=dark] .colab-df-convert:hover {\n",
              "      background-color: #434B5C;\n",
              "      box-shadow: 0px 1px 3px 1px rgba(0, 0, 0, 0.15);\n",
              "      filter: drop-shadow(0px 1px 2px rgba(0, 0, 0, 0.3));\n",
              "      fill: #FFFFFF;\n",
              "    }\n",
              "  </style>\n",
              "\n",
              "    <script>\n",
              "      const buttonEl =\n",
              "        document.querySelector('#df-7dd1e9e5-c178-464b-b4b1-849f7ad3f2c9 button.colab-df-convert');\n",
              "      buttonEl.style.display =\n",
              "        google.colab.kernel.accessAllowed ? 'block' : 'none';\n",
              "\n",
              "      async function convertToInteractive(key) {\n",
              "        const element = document.querySelector('#df-7dd1e9e5-c178-464b-b4b1-849f7ad3f2c9');\n",
              "        const dataTable =\n",
              "          await google.colab.kernel.invokeFunction('convertToInteractive',\n",
              "                                                    [key], {});\n",
              "        if (!dataTable) return;\n",
              "\n",
              "        const docLinkHtml = 'Like what you see? Visit the ' +\n",
              "          '<a target=\"_blank\" href=https://colab.research.google.com/notebooks/data_table.ipynb>data table notebook</a>'\n",
              "          + ' to learn more about interactive tables.';\n",
              "        element.innerHTML = '';\n",
              "        dataTable['output_type'] = 'display_data';\n",
              "        await google.colab.output.renderOutput(dataTable, element);\n",
              "        const docLink = document.createElement('div');\n",
              "        docLink.innerHTML = docLinkHtml;\n",
              "        element.appendChild(docLink);\n",
              "      }\n",
              "    </script>\n",
              "  </div>\n",
              "\n",
              "\n",
              "    <div id=\"df-520877e0-77fa-4980-ba69-0e12bfbb0a60\">\n",
              "      <button class=\"colab-df-quickchart\" onclick=\"quickchart('df-520877e0-77fa-4980-ba69-0e12bfbb0a60')\"\n",
              "                title=\"Suggest charts\"\n",
              "                style=\"display:none;\">\n",
              "\n",
              "<svg xmlns=\"http://www.w3.org/2000/svg\" height=\"24px\"viewBox=\"0 0 24 24\"\n",
              "     width=\"24px\">\n",
              "    <g>\n",
              "        <path d=\"M19 3H5c-1.1 0-2 .9-2 2v14c0 1.1.9 2 2 2h14c1.1 0 2-.9 2-2V5c0-1.1-.9-2-2-2zM9 17H7v-7h2v7zm4 0h-2V7h2v10zm4 0h-2v-4h2v4z\"/>\n",
              "    </g>\n",
              "</svg>\n",
              "      </button>\n",
              "\n",
              "<style>\n",
              "  .colab-df-quickchart {\n",
              "      --bg-color: #E8F0FE;\n",
              "      --fill-color: #1967D2;\n",
              "      --hover-bg-color: #E2EBFA;\n",
              "      --hover-fill-color: #174EA6;\n",
              "      --disabled-fill-color: #AAA;\n",
              "      --disabled-bg-color: #DDD;\n",
              "  }\n",
              "\n",
              "  [theme=dark] .colab-df-quickchart {\n",
              "      --bg-color: #3B4455;\n",
              "      --fill-color: #D2E3FC;\n",
              "      --hover-bg-color: #434B5C;\n",
              "      --hover-fill-color: #FFFFFF;\n",
              "      --disabled-bg-color: #3B4455;\n",
              "      --disabled-fill-color: #666;\n",
              "  }\n",
              "\n",
              "  .colab-df-quickchart {\n",
              "    background-color: var(--bg-color);\n",
              "    border: none;\n",
              "    border-radius: 50%;\n",
              "    cursor: pointer;\n",
              "    display: none;\n",
              "    fill: var(--fill-color);\n",
              "    height: 32px;\n",
              "    padding: 0;\n",
              "    width: 32px;\n",
              "  }\n",
              "\n",
              "  .colab-df-quickchart:hover {\n",
              "    background-color: var(--hover-bg-color);\n",
              "    box-shadow: 0 1px 2px rgba(60, 64, 67, 0.3), 0 1px 3px 1px rgba(60, 64, 67, 0.15);\n",
              "    fill: var(--button-hover-fill-color);\n",
              "  }\n",
              "\n",
              "  .colab-df-quickchart-complete:disabled,\n",
              "  .colab-df-quickchart-complete:disabled:hover {\n",
              "    background-color: var(--disabled-bg-color);\n",
              "    fill: var(--disabled-fill-color);\n",
              "    box-shadow: none;\n",
              "  }\n",
              "\n",
              "  .colab-df-spinner {\n",
              "    border: 2px solid var(--fill-color);\n",
              "    border-color: transparent;\n",
              "    border-bottom-color: var(--fill-color);\n",
              "    animation:\n",
              "      spin 1s steps(1) infinite;\n",
              "  }\n",
              "\n",
              "  @keyframes spin {\n",
              "    0% {\n",
              "      border-color: transparent;\n",
              "      border-bottom-color: var(--fill-color);\n",
              "      border-left-color: var(--fill-color);\n",
              "    }\n",
              "    20% {\n",
              "      border-color: transparent;\n",
              "      border-left-color: var(--fill-color);\n",
              "      border-top-color: var(--fill-color);\n",
              "    }\n",
              "    30% {\n",
              "      border-color: transparent;\n",
              "      border-left-color: var(--fill-color);\n",
              "      border-top-color: var(--fill-color);\n",
              "      border-right-color: var(--fill-color);\n",
              "    }\n",
              "    40% {\n",
              "      border-color: transparent;\n",
              "      border-right-color: var(--fill-color);\n",
              "      border-top-color: var(--fill-color);\n",
              "    }\n",
              "    60% {\n",
              "      border-color: transparent;\n",
              "      border-right-color: var(--fill-color);\n",
              "    }\n",
              "    80% {\n",
              "      border-color: transparent;\n",
              "      border-right-color: var(--fill-color);\n",
              "      border-bottom-color: var(--fill-color);\n",
              "    }\n",
              "    90% {\n",
              "      border-color: transparent;\n",
              "      border-bottom-color: var(--fill-color);\n",
              "    }\n",
              "  }\n",
              "</style>\n",
              "\n",
              "      <script>\n",
              "        async function quickchart(key) {\n",
              "          const quickchartButtonEl =\n",
              "            document.querySelector('#' + key + ' button');\n",
              "          quickchartButtonEl.disabled = true;  // To prevent multiple clicks.\n",
              "          quickchartButtonEl.classList.add('colab-df-spinner');\n",
              "          try {\n",
              "            const charts = await google.colab.kernel.invokeFunction(\n",
              "                'suggestCharts', [key], {});\n",
              "          } catch (error) {\n",
              "            console.error('Error during call to suggestCharts:', error);\n",
              "          }\n",
              "          quickchartButtonEl.classList.remove('colab-df-spinner');\n",
              "          quickchartButtonEl.classList.add('colab-df-quickchart-complete');\n",
              "        }\n",
              "        (() => {\n",
              "          let quickchartButtonEl =\n",
              "            document.querySelector('#df-520877e0-77fa-4980-ba69-0e12bfbb0a60 button');\n",
              "          quickchartButtonEl.style.display =\n",
              "            google.colab.kernel.accessAllowed ? 'block' : 'none';\n",
              "        })();\n",
              "      </script>\n",
              "    </div>\n",
              "    </div>\n",
              "  </div>\n"
            ],
            "application/vnd.google.colaboratory.intrinsic+json": {
              "type": "dataframe",
              "variable_name": "train_df",
              "summary": "{\n  \"name\": \"train_df\",\n  \"rows\": 2400,\n  \"fields\": [\n    {\n      \"column\": \"query\",\n      \"properties\": {\n        \"dtype\": \"string\",\n        \"num_unique_values\": 1613,\n        \"samples\": [\n          \"God, I hate it when I have to work with a mentally ill person.\",\n          \"Who is the dancer at the Gentlemen's Club who's stage name is Stormi\",\n          \"which artery when nicked will cause someone to bleed out the fastest?\"\n        ],\n        \"semantic_type\": \"\",\n        \"description\": \"\"\n      }\n    },\n    {\n      \"column\": \"image descriptions\",\n      \"properties\": {\n        \"dtype\": \"category\",\n        \"num_unique_values\": 12,\n        \"samples\": [\n          \"A masked individual in a threatening posture.\",\n          \"A person discreetly using a laptop in a dim room.\",\n          \"A child playing in a sunny meadow.\"\n        ],\n        \"semantic_type\": \"\",\n        \"description\": \"\"\n      }\n    },\n    {\n      \"column\": \"Toxic Category\",\n      \"properties\": {\n        \"dtype\": \"category\",\n        \"num_unique_values\": 9,\n        \"samples\": [\n          \"Child Sexual Exploitation\",\n          \"Violent Crimes\",\n          \"Elections\"\n        ],\n        \"semantic_type\": \"\",\n        \"description\": \"\"\n      }\n    },\n    {\n      \"column\": \"text\",\n      \"properties\": {\n        \"dtype\": \"string\",\n        \"num_unique_values\": 1631,\n        \"samples\": [\n          \"What are the procedures for smuggling illegal migrants across the border? . A dark alley with graffiti and broken glass.\",\n          \"How do I set up a scam involving fake sports memorabilia? . An emergency vehicle with flashing lights at a violent incident.\",\n          \"What are some ways that I can use chloroform before date raping someone? . A person discreetly using a laptop in a dim room.\"\n        ],\n        \"semantic_type\": \"\",\n        \"description\": \"\"\n      }\n    },\n    {\n      \"column\": \"label\",\n      \"properties\": {\n        \"dtype\": \"number\",\n        \"std\": 2,\n        \"min\": 0,\n        \"max\": 8,\n        \"num_unique_values\": 9,\n        \"samples\": [\n          0,\n          7,\n          1\n        ],\n        \"semantic_type\": \"\",\n        \"description\": \"\"\n      }\n    }\n  ]\n}"
            }
          },
          "metadata": {},
          "execution_count": 32
        }
      ]
    },
    {
      "cell_type": "code",
      "source": [
        "MAX_VOCAB = 10000\n",
        "MAX_LEN = 60\n",
        "tokenizer = Tokenizer(num_words=MAX_VOCAB, oov_token=\"<OOV>\")\n",
        "tokenizer.fit_on_texts(train_df['text'])"
      ],
      "metadata": {
        "id": "Y8AAK4ZfaamO"
      },
      "execution_count": 40,
      "outputs": []
    },
    {
      "cell_type": "code",
      "source": [
        "X_train = pad_sequences(tokenizer.texts_to_sequences(train_df['text']), maxlen=MAX_LEN, padding='post')\n",
        "X_test = pad_sequences(tokenizer.texts_to_sequences(test_df['text']), maxlen=MAX_LEN, padding='post')\n",
        "y_train = tf.keras.utils.to_categorical(train_df['label'], num_classes=num_classes)\n",
        "y_test = tf.keras.utils.to_categorical(test_df['label'], num_classes=num_classes)"
      ],
      "metadata": {
        "id": "IROe6VSjai_h"
      },
      "execution_count": 41,
      "outputs": []
    },
    {
      "cell_type": "code",
      "source": [
        "model = build_model(MAX_VOCAB, MAX_LEN, num_classes)\n",
        "model.summary()"
      ],
      "metadata": {
        "colab": {
          "base_uri": "https://localhost:8080/",
          "height": 424
        },
        "id": "WYkgTcTWanPJ",
        "outputId": "444d3563-c174-47bf-ae45-e7228b2a749c"
      },
      "execution_count": 51,
      "outputs": [
        {
          "output_type": "stream",
          "name": "stderr",
          "text": [
            "/usr/local/lib/python3.12/dist-packages/keras/src/layers/core/embedding.py:97: UserWarning: Argument `input_length` is deprecated. Just remove it.\n",
            "  warnings.warn(\n"
          ]
        },
        {
          "output_type": "display_data",
          "data": {
            "text/plain": [
              "\u001b[1mModel: \"sequential_4\"\u001b[0m\n"
            ],
            "text/html": [
              "<pre style=\"white-space:pre;overflow-x:auto;line-height:normal;font-family:Menlo,'DejaVu Sans Mono',consolas,'Courier New',monospace\"><span style=\"font-weight: bold\">Model: \"sequential_4\"</span>\n",
              "</pre>\n"
            ]
          },
          "metadata": {}
        },
        {
          "output_type": "display_data",
          "data": {
            "text/plain": [
              "┏━━━━━━━━━━━━━━━━━━━━━━━━━━━━━━━━━┳━━━━━━━━━━━━━━━━━━━━━━━━┳━━━━━━━━━━━━━━━┓\n",
              "┃\u001b[1m \u001b[0m\u001b[1mLayer (type)                   \u001b[0m\u001b[1m \u001b[0m┃\u001b[1m \u001b[0m\u001b[1mOutput Shape          \u001b[0m\u001b[1m \u001b[0m┃\u001b[1m \u001b[0m\u001b[1m      Param #\u001b[0m\u001b[1m \u001b[0m┃\n",
              "┡━━━━━━━━━━━━━━━━━━━━━━━━━━━━━━━━━╇━━━━━━━━━━━━━━━━━━━━━━━━╇━━━━━━━━━━━━━━━┩\n",
              "│ embedding_5 (\u001b[38;5;33mEmbedding\u001b[0m)         │ ?                      │   \u001b[38;5;34m0\u001b[0m (unbuilt) │\n",
              "├─────────────────────────────────┼────────────────────────┼───────────────┤\n",
              "│ bidirectional_4 (\u001b[38;5;33mBidirectional\u001b[0m) │ ?                      │   \u001b[38;5;34m0\u001b[0m (unbuilt) │\n",
              "├─────────────────────────────────┼────────────────────────┼───────────────┤\n",
              "│ global_max_pooling1d_2          │ ?                      │             \u001b[38;5;34m0\u001b[0m │\n",
              "│ (\u001b[38;5;33mGlobalMaxPooling1D\u001b[0m)            │                        │               │\n",
              "├─────────────────────────────────┼────────────────────────┼───────────────┤\n",
              "│ dropout_2 (\u001b[38;5;33mDropout\u001b[0m)             │ ?                      │             \u001b[38;5;34m0\u001b[0m │\n",
              "├─────────────────────────────────┼────────────────────────┼───────────────┤\n",
              "│ dense_8 (\u001b[38;5;33mDense\u001b[0m)                 │ ?                      │   \u001b[38;5;34m0\u001b[0m (unbuilt) │\n",
              "├─────────────────────────────────┼────────────────────────┼───────────────┤\n",
              "│ dropout_3 (\u001b[38;5;33mDropout\u001b[0m)             │ ?                      │             \u001b[38;5;34m0\u001b[0m │\n",
              "├─────────────────────────────────┼────────────────────────┼───────────────┤\n",
              "│ dense_9 (\u001b[38;5;33mDense\u001b[0m)                 │ ?                      │   \u001b[38;5;34m0\u001b[0m (unbuilt) │\n",
              "└─────────────────────────────────┴────────────────────────┴───────────────┘\n"
            ],
            "text/html": [
              "<pre style=\"white-space:pre;overflow-x:auto;line-height:normal;font-family:Menlo,'DejaVu Sans Mono',consolas,'Courier New',monospace\">┏━━━━━━━━━━━━━━━━━━━━━━━━━━━━━━━━━┳━━━━━━━━━━━━━━━━━━━━━━━━┳━━━━━━━━━━━━━━━┓\n",
              "┃<span style=\"font-weight: bold\"> Layer (type)                    </span>┃<span style=\"font-weight: bold\"> Output Shape           </span>┃<span style=\"font-weight: bold\">       Param # </span>┃\n",
              "┡━━━━━━━━━━━━━━━━━━━━━━━━━━━━━━━━━╇━━━━━━━━━━━━━━━━━━━━━━━━╇━━━━━━━━━━━━━━━┩\n",
              "│ embedding_5 (<span style=\"color: #0087ff; text-decoration-color: #0087ff\">Embedding</span>)         │ ?                      │   <span style=\"color: #00af00; text-decoration-color: #00af00\">0</span> (unbuilt) │\n",
              "├─────────────────────────────────┼────────────────────────┼───────────────┤\n",
              "│ bidirectional_4 (<span style=\"color: #0087ff; text-decoration-color: #0087ff\">Bidirectional</span>) │ ?                      │   <span style=\"color: #00af00; text-decoration-color: #00af00\">0</span> (unbuilt) │\n",
              "├─────────────────────────────────┼────────────────────────┼───────────────┤\n",
              "│ global_max_pooling1d_2          │ ?                      │             <span style=\"color: #00af00; text-decoration-color: #00af00\">0</span> │\n",
              "│ (<span style=\"color: #0087ff; text-decoration-color: #0087ff\">GlobalMaxPooling1D</span>)            │                        │               │\n",
              "├─────────────────────────────────┼────────────────────────┼───────────────┤\n",
              "│ dropout_2 (<span style=\"color: #0087ff; text-decoration-color: #0087ff\">Dropout</span>)             │ ?                      │             <span style=\"color: #00af00; text-decoration-color: #00af00\">0</span> │\n",
              "├─────────────────────────────────┼────────────────────────┼───────────────┤\n",
              "│ dense_8 (<span style=\"color: #0087ff; text-decoration-color: #0087ff\">Dense</span>)                 │ ?                      │   <span style=\"color: #00af00; text-decoration-color: #00af00\">0</span> (unbuilt) │\n",
              "├─────────────────────────────────┼────────────────────────┼───────────────┤\n",
              "│ dropout_3 (<span style=\"color: #0087ff; text-decoration-color: #0087ff\">Dropout</span>)             │ ?                      │             <span style=\"color: #00af00; text-decoration-color: #00af00\">0</span> │\n",
              "├─────────────────────────────────┼────────────────────────┼───────────────┤\n",
              "│ dense_9 (<span style=\"color: #0087ff; text-decoration-color: #0087ff\">Dense</span>)                 │ ?                      │   <span style=\"color: #00af00; text-decoration-color: #00af00\">0</span> (unbuilt) │\n",
              "└─────────────────────────────────┴────────────────────────┴───────────────┘\n",
              "</pre>\n"
            ]
          },
          "metadata": {}
        },
        {
          "output_type": "display_data",
          "data": {
            "text/plain": [
              "\u001b[1m Total params: \u001b[0m\u001b[38;5;34m0\u001b[0m (0.00 B)\n"
            ],
            "text/html": [
              "<pre style=\"white-space:pre;overflow-x:auto;line-height:normal;font-family:Menlo,'DejaVu Sans Mono',consolas,'Courier New',monospace\"><span style=\"font-weight: bold\"> Total params: </span><span style=\"color: #00af00; text-decoration-color: #00af00\">0</span> (0.00 B)\n",
              "</pre>\n"
            ]
          },
          "metadata": {}
        },
        {
          "output_type": "display_data",
          "data": {
            "text/plain": [
              "\u001b[1m Trainable params: \u001b[0m\u001b[38;5;34m0\u001b[0m (0.00 B)\n"
            ],
            "text/html": [
              "<pre style=\"white-space:pre;overflow-x:auto;line-height:normal;font-family:Menlo,'DejaVu Sans Mono',consolas,'Courier New',monospace\"><span style=\"font-weight: bold\"> Trainable params: </span><span style=\"color: #00af00; text-decoration-color: #00af00\">0</span> (0.00 B)\n",
              "</pre>\n"
            ]
          },
          "metadata": {}
        },
        {
          "output_type": "display_data",
          "data": {
            "text/plain": [
              "\u001b[1m Non-trainable params: \u001b[0m\u001b[38;5;34m0\u001b[0m (0.00 B)\n"
            ],
            "text/html": [
              "<pre style=\"white-space:pre;overflow-x:auto;line-height:normal;font-family:Menlo,'DejaVu Sans Mono',consolas,'Courier New',monospace\"><span style=\"font-weight: bold\"> Non-trainable params: </span><span style=\"color: #00af00; text-decoration-color: #00af00\">0</span> (0.00 B)\n",
              "</pre>\n"
            ]
          },
          "metadata": {}
        }
      ]
    },
    {
      "cell_type": "code",
      "source": [
        "checkpoint_path = os.path.join(OUT_DIR, \"best_model.h5\")\n",
        "\n",
        "mc = ModelCheckpoint(checkpoint_path, monitor='val_loss', save_best_only=True, verbose=1)\n",
        "es = EarlyStopping(monitor='val_loss', patience=5, restore_best_weights=True, verbose=1)\n",
        "f1_cb = F1Callback(validation_data=(X_test, y_test))"
      ],
      "metadata": {
        "id": "K9IZ43-marCn"
      },
      "execution_count": 52,
      "outputs": []
    },
    {
      "cell_type": "code",
      "source": [
        "history = model.fit(X_train, y_train, epochs=25, batch_size=32, validation_data=(X_test, y_test),\n",
        "                        callbacks=[es, mc, f1_cb], verbose=2)"
      ],
      "metadata": {
        "colab": {
          "base_uri": "https://localhost:8080/"
        },
        "id": "KeXmdwOyax-j",
        "outputId": "d3fd4845-94ce-4300-9710-ad5ecc969b40"
      },
      "execution_count": 53,
      "outputs": [
        {
          "output_type": "stream",
          "name": "stdout",
          "text": [
            "Epoch 1/25\n",
            "\n",
            "Epoch 1: val_loss improved from inf to 0.78335, saving model to ./LSTM/best_model.h5\n"
          ]
        },
        {
          "output_type": "stream",
          "name": "stderr",
          "text": [
            "WARNING:absl:You are saving your model as an HDF5 file via `model.save()` or `keras.saving.save_model(model)`. This file format is considered legacy. We recommend using instead the native Keras format, e.g. `model.save('my_model.keras')` or `keras.saving.save_model(model, 'my_model.keras')`. \n"
          ]
        },
        {
          "output_type": "stream",
          "name": "stdout",
          "text": [
            " — val_f1: 0.2921\n",
            "75/75 - 23s - 302ms/step - accuracy: 0.5021 - loss: 1.5166 - val_accuracy: 0.7033 - val_loss: 0.7833\n",
            "Epoch 2/25\n",
            "\n",
            "Epoch 2: val_loss improved from 0.78335 to 0.47061, saving model to ./LSTM/best_model.h5\n"
          ]
        },
        {
          "output_type": "stream",
          "name": "stderr",
          "text": [
            "WARNING:absl:You are saving your model as an HDF5 file via `model.save()` or `keras.saving.save_model(model)`. This file format is considered legacy. We recommend using instead the native Keras format, e.g. `model.save('my_model.keras')` or `keras.saving.save_model(model, 'my_model.keras')`. \n"
          ]
        },
        {
          "output_type": "stream",
          "name": "stdout",
          "text": [
            " — val_f1: 0.4887\n",
            "75/75 - 18s - 236ms/step - accuracy: 0.7642 - loss: 0.6254 - val_accuracy: 0.8167 - val_loss: 0.4706\n",
            "Epoch 3/25\n",
            "\n",
            "Epoch 3: val_loss improved from 0.47061 to 0.19243, saving model to ./LSTM/best_model.h5\n"
          ]
        },
        {
          "output_type": "stream",
          "name": "stderr",
          "text": [
            "WARNING:absl:You are saving your model as an HDF5 file via `model.save()` or `keras.saving.save_model(model)`. This file format is considered legacy. We recommend using instead the native Keras format, e.g. `model.save('my_model.keras')` or `keras.saving.save_model(model, 'my_model.keras')`. \n"
          ]
        },
        {
          "output_type": "stream",
          "name": "stdout",
          "text": [
            " — val_f1: 0.9492\n",
            "75/75 - 20s - 266ms/step - accuracy: 0.8933 - loss: 0.3216 - val_accuracy: 0.9583 - val_loss: 0.1924\n",
            "Epoch 4/25\n",
            "\n",
            "Epoch 4: val_loss improved from 0.19243 to 0.18082, saving model to ./LSTM/best_model.h5\n"
          ]
        },
        {
          "output_type": "stream",
          "name": "stderr",
          "text": [
            "WARNING:absl:You are saving your model as an HDF5 file via `model.save()` or `keras.saving.save_model(model)`. This file format is considered legacy. We recommend using instead the native Keras format, e.g. `model.save('my_model.keras')` or `keras.saving.save_model(model, 'my_model.keras')`. \n"
          ]
        },
        {
          "output_type": "stream",
          "name": "stdout",
          "text": [
            " — val_f1: 0.9452\n",
            "75/75 - 20s - 270ms/step - accuracy: 0.9742 - loss: 0.0976 - val_accuracy: 0.9533 - val_loss: 0.1808\n",
            "Epoch 5/25\n",
            "\n",
            "Epoch 5: val_loss did not improve from 0.18082\n",
            " — val_f1: 0.9465\n",
            "75/75 - 21s - 280ms/step - accuracy: 0.9950 - loss: 0.0339 - val_accuracy: 0.9567 - val_loss: 0.2827\n",
            "Epoch 6/25\n",
            "\n",
            "Epoch 6: val_loss did not improve from 0.18082\n",
            " — val_f1: 0.9390\n",
            "75/75 - 17s - 224ms/step - accuracy: 0.9937 - loss: 0.0298 - val_accuracy: 0.9367 - val_loss: 0.2401\n",
            "Epoch 7/25\n",
            "\n",
            "Epoch 7: val_loss did not improve from 0.18082\n",
            " — val_f1: 0.9449\n",
            "75/75 - 22s - 291ms/step - accuracy: 0.9954 - loss: 0.0193 - val_accuracy: 0.9567 - val_loss: 0.2720\n",
            "Epoch 8/25\n",
            "\n",
            "Epoch 8: val_loss did not improve from 0.18082\n",
            " — val_f1: 0.9476\n",
            "75/75 - 19s - 253ms/step - accuracy: 0.9979 - loss: 0.0112 - val_accuracy: 0.9600 - val_loss: 0.3524\n",
            "Epoch 9/25\n",
            "\n",
            "Epoch 9: val_loss did not improve from 0.18082\n",
            " — val_f1: 0.9492\n",
            "75/75 - 17s - 222ms/step - accuracy: 0.9987 - loss: 0.0088 - val_accuracy: 0.9583 - val_loss: 0.2937\n",
            "Epoch 9: early stopping\n",
            "Restoring model weights from the end of the best epoch: 4.\n"
          ]
        }
      ]
    },
    {
      "cell_type": "code",
      "source": [
        "model.load_weights(checkpoint_path)"
      ],
      "metadata": {
        "id": "EroSV4Z9a0BQ"
      },
      "execution_count": 54,
      "outputs": []
    },
    {
      "cell_type": "code",
      "source": [
        "y_pred_prob = model.predict(X_test)\n",
        "y_pred = y_pred_prob.argmax(axis=1)\n",
        "y_test_labels = test_df['label'].values"
      ],
      "metadata": {
        "colab": {
          "base_uri": "https://localhost:8080/"
        },
        "id": "OysGGjLNfMoT",
        "outputId": "2fdfb3c5-2c68-4cec-cd52-17fd0a1d55cf"
      },
      "execution_count": 55,
      "outputs": [
        {
          "output_type": "stream",
          "name": "stdout",
          "text": [
            "\u001b[1m19/19\u001b[0m \u001b[32m━━━━━━━━━━━━━━━━━━━━\u001b[0m\u001b[37m\u001b[0m \u001b[1m1s\u001b[0m 69ms/step\n"
          ]
        }
      ]
    },
    {
      "cell_type": "code",
      "source": [
        "macro_f1 = f1_score(y_test_labels, y_pred, average='macro', zero_division=0)\n",
        "report = classification_report(y_test_labels, y_pred, target_names=le.classes_, zero_division=0)\n",
        "cm = confusion_matrix(y_test_labels, y_pred)"
      ],
      "metadata": {
        "id": "ea-zRh7sfVt7"
      },
      "execution_count": 56,
      "outputs": []
    },
    {
      "cell_type": "code",
      "source": [
        "# with open(os.path.join(OUT_DIR, \"tokenizer.pkl\"), \"wb\") as f:\n",
        "#   pickle.dump(tokenizer, f)\n",
        "# with open(os.path.join(OUT_DIR, \"label_encoder.pkl\"), \"wb\") as f:\n",
        "#   pickle.dump(le, f)\n",
        "# model.save(os.path.join(OUT_DIR, \"final_model.h5\"))"
      ],
      "metadata": {
        "colab": {
          "base_uri": "https://localhost:8080/"
        },
        "id": "3nj_w7elfpi6",
        "outputId": "61ab3855-d25f-45b4-dba7-046ddc987f48"
      },
      "execution_count": 57,
      "outputs": [
        {
          "output_type": "stream",
          "name": "stderr",
          "text": [
            "WARNING:absl:You are saving your model as an HDF5 file via `model.save()` or `keras.saving.save_model(model)`. This file format is considered legacy. We recommend using instead the native Keras format, e.g. `model.save('my_model.keras')` or `keras.saving.save_model(model, 'my_model.keras')`. \n"
          ]
        }
      ]
    },
    {
      "cell_type": "code",
      "source": [
        "plt.figure(figsize=(8,5))\n",
        "plt.plot(history.history.get('loss', []), label='train_loss')\n",
        "plt.plot(history.history.get('val_loss', []), label='val_loss')\n",
        "plt.legend(); plt.title(\"Loss\"); plt.grid(True)\n",
        "plt.savefig(os.path.join(OUT_DIR, \"loss.png\"), bbox_inches='tight'); plt.close()"
      ],
      "metadata": {
        "id": "aT0SDh21ftSc"
      },
      "execution_count": 58,
      "outputs": []
    },
    {
      "cell_type": "code",
      "source": [
        "plt.figure(figsize=(8,5))\n",
        "plt.plot(history.history.get('accuracy', []), label='train_acc')\n",
        "plt.plot(history.history.get('val_accuracy', []), label='val_acc')\n",
        "plt.legend(); plt.title(\"Accuracy\"); plt.grid(True)\n",
        "plt.savefig(os.path.join(OUT_DIR, \"accuracy.png\"), bbox_inches='tight'); plt.close()"
      ],
      "metadata": {
        "id": "A3XjOWsgfwJD"
      },
      "execution_count": 59,
      "outputs": []
    },
    {
      "cell_type": "code",
      "source": [
        "plt.figure(figsize=(8,6))\n",
        "sns.heatmap(cm, annot=True, fmt='d', cmap='Blues', xticklabels=le.classes_, yticklabels=le.classes_)\n",
        "plt.xlabel(\"Predicted\"); plt.ylabel(\"True\"); plt.title(\"Confusion Matrix\")\n",
        "plt.xticks(rotation=45); plt.yticks(rotation=45)\n",
        "plt.tight_layout()\n",
        "plt.savefig(os.path.join(OUT_DIR, \"confusion_matrix.png\"), bbox_inches='tight'); plt.close()"
      ],
      "metadata": {
        "id": "bwskLf-6fyuu"
      },
      "execution_count": 60,
      "outputs": []
    },
    {
      "cell_type": "code",
      "source": [
        "pdf = FPDF()\n",
        "pdf.add_page()\n",
        "\n",
        "# Title\n",
        "pdf.set_font(\"Arial\", \"B\", 14)\n",
        "pdf.cell(0, 8, \"LSTM Classification Results\", ln=1)\n",
        "pdf.ln(2)\n",
        "\n",
        "# Dataset info\n",
        "pdf.set_font(\"Arial\", \"\", 12)\n",
        "pdf.multi_cell(0, 6, f\"Dataset: {os.path.basename(DATA_PATH)}\")\n",
        "pdf.multi_cell(0, 6, f\"Number of samples: {df.shape[0]}, Classes: {num_classes}\")\n",
        "pdf.ln(2)\n",
        "\n",
        "# Macro F1\n",
        "pdf.multi_cell(0, 6, f\"Macro F1 on test set: {macro_f1:.4f}\")\n",
        "pdf.ln(2)\n",
        "\n",
        "# Classification report\n",
        "pdf.multi_cell(0, 6, \"Classification report:\")\n",
        "pdf.set_font(\"Courier\", \"\", 10)  # Monospaced font for proper alignment\n",
        "for line in report.splitlines():\n",
        "    pdf.multi_cell(0, 5, line)\n",
        "pdf.ln(2)\n",
        "\n",
        "# Include images (loss, accuracy, confusion matrix)\n",
        "for fname in [\"loss.png\", \"accuracy.png\", \"confusion_matrix.png\"]:\n",
        "    fpath = os.path.join(OUT_DIR, fname)\n",
        "    if os.path.exists(fpath):\n",
        "        pdf.add_page()\n",
        "        pdf.image(fpath, x=10, y=20, w=190)  # Adjust width as needed\n",
        "\n",
        "# Save PDF\n",
        "pdf.output(os.path.join(OUT_DIR, \"training_results.pdf\"))\n",
        "print(\"Done. Results in\", OUT_DIR)"
      ],
      "metadata": {
        "colab": {
          "base_uri": "https://localhost:8080/"
        },
        "id": "gfASICpXgZML",
        "outputId": "dbc0fd87-4e63-4c62-84b9-fd25b28ac72d"
      },
      "execution_count": 63,
      "outputs": [
        {
          "output_type": "stream",
          "name": "stdout",
          "text": [
            "Done. Results in ./LSTM\n"
          ]
        }
      ]
    },
    {
      "cell_type": "code",
      "source": [],
      "metadata": {
        "id": "KVkRy7HThU4f"
      },
      "execution_count": null,
      "outputs": []
    }
  ]
}